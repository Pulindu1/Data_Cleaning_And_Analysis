{
 "cells": [
  {
   "cell_type": "code",
   "execution_count": 1640,
   "id": "6bbeabea",
   "metadata": {},
   "outputs": [],
   "source": [
    "# import libraries\n",
    "import pandas as pd\n",
    "import seaborn as sns\n",
    "from openpyxl import Workbook\n",
    "from openpyxl.styles import Font\n",
    "import numpy as np\n",
    "import time\n",
    "import matplotlib.pyplot as plt #only used to adjust axis\n",
    "\n",
    "# download the following imported modules:\n",
    "\n",
    "import xlsxwriter\n",
    "from fuzzywuzzy import process # import the fuzzywuzzy module for correcting typos\n",
    "import pint\n",
    "\n"
   ]
  },
  {
   "cell_type": "code",
   "execution_count": 1641,
   "id": "4d6639d3",
   "metadata": {},
   "outputs": [],
   "source": [
    "# time the code\n",
    "start_time = time.time()\n",
    "\n",
    "\n",
    "# open file\n",
    "file = 'amazon_laptop_2023.xlsx'\n",
    "df = pd.read_excel(file)\n"
   ]
  },
  {
   "cell_type": "code",
   "execution_count": null,
   "id": "4ab50e8b",
   "metadata": {},
   "outputs": [],
   "source": []
  },
  {
   "cell_type": "code",
   "execution_count": 1642,
   "id": "fcda558d",
   "metadata": {},
   "outputs": [],
   "source": [
    "# Drops rows when the 'price' column is empty\n",
    "\n",
    "\n",
    "# Calculate the percentage of missing values in each column\n",
    "missing_percentages = (df.isnull().sum() / len(df)) * 100\n"
   ]
  },
  {
   "cell_type": "code",
   "execution_count": null,
   "id": "096d6733",
   "metadata": {},
   "outputs": [],
   "source": []
  },
  {
   "cell_type": "code",
   "execution_count": 1643,
   "id": "08e29ccc",
   "metadata": {},
   "outputs": [
    {
     "name": "stdout",
     "output_type": "stream",
     "text": [
      "% of missing values in each column:\n",
      "                  Column  Missing Percentage\n",
      "0                  brand            0.000000\n",
      "1                  model           26.180837\n",
      "2            screen_size            0.652272\n",
      "3                  color           13.022942\n",
      "4               harddisk           12.955466\n",
      "5                    cpu            2.249213\n",
      "6                    ram            1.372020\n",
      "7                     OS            0.584795\n",
      "8       special_features           53.801170\n",
      "9               graphics            1.461988\n",
      "10  graphics_coprocessor           42.105263\n",
      "11             cpu_speed           65.811966\n",
      "12                rating           51.102114\n",
      "13                 price            0.112461\n"
     ]
    }
   ],
   "source": [
    "# Create a DataFrame, then display the missing percentage for each column\n",
    "missing_percentage_df = pd.DataFrame({\n",
    "    'Column': missing_percentages.index,\n",
    "    'Missing Percentage': missing_percentages.values\n",
    "})\n",
    "\n",
    "# Display the table of missing percentages\n",
    "print(\"% of missing values in each column:\")\n",
    "print(missing_percentage_df)"
   ]
  },
  {
   "cell_type": "code",
   "execution_count": 1644,
   "id": "c32eb9fb",
   "metadata": {},
   "outputs": [],
   "source": [
    "# dropped the graphics coprocessor column because it is more than 50% empty\n",
    "# not much use for it\n",
    "# df.drop(['graphics_coprocessor'], axis=1, inplace=True)"
   ]
  },
  {
   "cell_type": "code",
   "execution_count": 1645,
   "id": "cafb1557",
   "metadata": {},
   "outputs": [],
   "source": [
    "# drop rows when price unknown\n",
    "df = df.dropna(subset=['price'])"
   ]
  },
  {
   "cell_type": "code",
   "execution_count": 1646,
   "id": "5d6bbbe0",
   "metadata": {},
   "outputs": [
    {
     "name": "stdout",
     "output_type": "stream",
     "text": [
      "['HP' 'Dell' 'MSI' 'Lenovo' 'acer' 'Acer' 'ASUS' 'LG' 'Apple' 'Microsoft'\n",
      " 'SAMSUNG' 'Gigabyte' 'Toughbook' 'Alienware' 'XAMMUE' 'LENOVO' 'DELL'\n",
      " 'dell' 'lenovo' 'SHOXLAB' 'Razer' 'asus' 'Corsair' 'XPG' 'Panasonic'\n",
      " 'LPT' 'VAIO' 'hp' 'Latitude' 'Carlisle FoodService Products' 'Gateway'\n",
      " 'Quality Refurbished Computers' 'TOPOSH' 'IVIEW' 'MAINGEAR'\n",
      " 'Computer Upgrade King' 'Elo' 'GizPro' 'JTD' 'Mytrix' 'ONN' 'Goldengulf'\n",
      " 'Luqeeg' 'Tocosy' 'ROKC' 'Asus' 'AWOW' 'Best Notebooks' 'CTL' 'Mac'\n",
      " 'MICROTELLA' 'enovo']\n"
     ]
    }
   ],
   "source": [
    "# print unique brand names, for analysis\n",
    "\n",
    "unique_brand_values = df['brand'].unique()\n",
    "print(unique_brand_values)\n",
    "# now, i have all important brand names so i can correct the wrong ones via fuzzywuzzy\n",
    "all_brands = 'HP', 'Dell', 'MSI', 'Lenovo', 'Acer', 'ASUS', 'LG', 'Apple', 'Microsoft', 'SAMSUNG', 'Gigabyte', 'Alienware', 'Razer', 'Corsair', 'XPG', 'Panasonic', 'LPT', 'VAIO'"
   ]
  },
  {
   "cell_type": "code",
   "execution_count": null,
   "id": "6b9a7eaa",
   "metadata": {},
   "outputs": [],
   "source": []
  },
  {
   "cell_type": "code",
   "execution_count": 1647,
   "id": "97784bfb",
   "metadata": {},
   "outputs": [],
   "source": [
    "# corrects typos, using fuzzywuzzy \n",
    "# also, when the brand == 'mac', it converts it to 'apple'\n",
    "def correct_typos(input_string, options):\n",
    "    if input_string.lower() == 'mac':\n",
    "        return 'Apple'\n",
    "    \n",
    "    match, score = process.extractOne(input_string, options)\n",
    "    if score >= 75:\n",
    "        return match\n",
    "    else:\n",
    "        return input_string\n",
    "\n",
    "df['brand'] = df['brand'].apply(lambda x: correct_typos(x, all_brands))\n",
    "\n",
    "# [1] code based off of discussion in stack exchange:\n",
    "# https://codereview.stackexchange.com/questions/215174/find-a-best-fuzzy-match-for-a-string\n",
    "# [2] also based off kaggle form:\n",
    "# https://www.kaggle.com/code/prateekmaj21/fuzzywuzzy-python-library"
   ]
  },
  {
   "cell_type": "code",
   "execution_count": 1648,
   "id": "f65c1422",
   "metadata": {},
   "outputs": [
    {
     "name": "stdout",
     "output_type": "stream",
     "text": [
      "Shape before removing duplicates: (4441, 14)\n",
      "Shape after removing duplicates: (2623, 14)\n"
     ]
    }
   ],
   "source": [
    "# check if there's duplicate rows\n",
    "df_no_duplicates = df.drop_duplicates()\n",
    "print(\"Shape before removing duplicates:\", df.shape)\n",
    "print(\"Shape after removing duplicates:\", df_no_duplicates.shape)\n",
    "\n",
    "# there are over 1800 duplicates!!!! remove them all:\n",
    "df = df.drop_duplicates()"
   ]
  },
  {
   "cell_type": "code",
   "execution_count": 1649,
   "id": "b018924b",
   "metadata": {},
   "outputs": [],
   "source": [
    "# Convert price from strings to floats\n",
    "df['price'] = df['price'].replace('[\\$,]', '', regex=True).astype(float)\n",
    "\n",
    "# Get rid of units for screen_size and change data into floats\n",
    "df['screen_size'] = df['screen_size'].replace('Inches$', '', regex=True).astype(float)\n",
    "\n",
    "# remove any data that ends in MB for RAM, because it is an outlier and must be incorrect data\n",
    "# then get rid of the GB part and convert to a float.\n",
    "df = df[~df['ram'].astype(str).str.endswith('MB')]\n",
    "df['ram'] = df['ram'].replace('GB$', '', regex=True).astype(float)\n",
    "\n",
    "# [3] change data type code based off of:\n",
    "# https://saturncloud.io/blog/how-to-convert-a-column-in-pandas-dataframe-from-string-to-float/#:~:text=10.11%204%2012.34-,To%20convert%20a%20column%20in%20a%20pandas%20DataFrame%20from%20a,object%20to%20a%20specified%20dtype."
   ]
  },
  {
   "cell_type": "code",
   "execution_count": 1650,
   "id": "a5b88ecd",
   "metadata": {},
   "outputs": [
    {
     "name": "stdout",
     "output_type": "stream",
     "text": [
      "Index(['brand', 'model', 'screen_size(inches)', 'colour', 'harddisk(GB)',\n",
      "       'CPU', 'RAM(GB)', 'OS', 'special_features', 'graphics',\n",
      "       'graphics_coprocessor', 'cpu_speed(GHz)', 'rating', 'price($)'],\n",
      "      dtype='object')\n"
     ]
    }
   ],
   "source": [
    "# change the column names, includes units now\n",
    "newColumnNames = ['brand', 'model', 'screen_size(inches)', 'colour', 'harddisk(GB)', 'CPU', 'RAM(GB)', 'OS', 'special_features', 'graphics', 'graphics_coprocessor', 'cpu_speed(GHz)', 'rating', 'price($)']\n",
    "\n",
    "df.columns = newColumnNames\n",
    "print(df.columns)"
   ]
  },
  {
   "cell_type": "code",
   "execution_count": 1651,
   "id": "9e104e52",
   "metadata": {},
   "outputs": [],
   "source": [
    "# remove row if the model is unknown, because the user can't order the laptop otherwise\n",
    "df = df.dropna(subset=['model'])"
   ]
  },
  {
   "cell_type": "code",
   "execution_count": 1652,
   "id": "3f0034fa",
   "metadata": {},
   "outputs": [],
   "source": [
    "# convert harddisk data from strings into floats, to make the data easier to deal with\n",
    "def str_to_float_harddisk(value):\n",
    "    try:\n",
    "        if isinstance(value, (int, float)):\n",
    "            return float(value) \n",
    "        elif 'TB' in value:   #TB to GB\n",
    "            return float(value.replace('TB', '')) * 1000 \n",
    "        elif 'GB' in value:\n",
    "            return float(value.replace('GB', ''))\n",
    "        else: #if data isn't already a float/GB/TB, then anomaly\n",
    "            return 0\n",
    "    except ValueError: #if above code can't run, just remove the data\n",
    "        return 0\n",
    "\n",
    "\n",
    "df['harddisk(GB)'] = df['harddisk(GB)'].apply(str_to_float_harddisk)\n",
    "\n",
    "# [4] isinstance() info from: \n",
    "# https://www.programiz.com/python-programming/methods/built-in/isinstance"
   ]
  },
  {
   "cell_type": "code",
   "execution_count": 1653,
   "id": "0ecee86e",
   "metadata": {},
   "outputs": [
    {
     "name": "stdout",
     "output_type": "stream",
     "text": [
      "min harddisk storage: 0.0\n",
      "max harddisk storage: 8000.0\n",
      "64.0\n"
     ]
    }
   ],
   "source": [
    "# further clean the harddisk column, removing outliers\n",
    "min_harddisk_value = df['harddisk(GB)'].min()\n",
    "print(\"min harddisk storage:\", min_harddisk_value)\n",
    "max_harddisk_value = df['harddisk(GB)'].max()\n",
    "print(\"max harddisk storage:\", max_harddisk_value)\n",
    "# 8 TB is realistic, but anything less than about 50GB isn't realistic, so probably an anomaly\n",
    "df = df[df['harddisk(GB)'] >= 50]\n",
    "\n",
    "min_harddisk_value = df['harddisk(GB)'].min()\n",
    "print(min_harddisk_value)"
   ]
  },
  {
   "cell_type": "code",
   "execution_count": 1654,
   "id": "5c58c31a",
   "metadata": {},
   "outputs": [
    {
     "name": "stdout",
     "output_type": "stream",
     "text": [
      "max rating: 5.0\n",
      "min rating: 1.0\n"
     ]
    }
   ],
   "source": [
    "max_rating = df['rating'].max()\n",
    "min_rating = df['rating'].min()\n",
    "print(\"max rating:\", max_rating)\n",
    "print(\"min rating:\", min_rating)\n",
    "# no outliers in rating column, no need to further clean rating column"
   ]
  },
  {
   "cell_type": "code",
   "execution_count": 1655,
   "id": "25be7f1f",
   "metadata": {},
   "outputs": [],
   "source": [
    "# convert spu_speed data from strings into floats, to make the data easier to deal with\n",
    "def cpu_speed_clean(value):\n",
    "    try:\n",
    "        if isinstance(value, (int, float)):\n",
    "            return float(value) \n",
    "        elif 'MHz' in value:   #MHz to GHz\n",
    "            return float(value.replace('MHz', '')) / 1000 \n",
    "        elif 'GHz' in value:\n",
    "            return float(value.replace('GHz', ''))\n",
    "        else: #if data isn't already a float/GHz/MHz, then anomaly\n",
    "            return 0\n",
    "    except ValueError: #if above code can't run, just remove the data\n",
    "        return 0\n",
    "\n",
    "\n",
    "df['cpu_speed(GHz)'] = df['cpu_speed(GHz)'].apply(cpu_speed_clean)"
   ]
  },
  {
   "cell_type": "code",
   "execution_count": 1656,
   "id": "5cce1151",
   "metadata": {},
   "outputs": [
    {
     "name": "stdout",
     "output_type": "stream",
     "text": [
      "['silver' 'black' 'grey, gray, platinum silver' 'grey' 'nan'\n",
      " 'gray, platinum silver' 'carbon gray' 'titan gray' 'pure silver'\n",
      " 'platinum silver' 'eclipse gray' 'dark moss' 'natural silver'\n",
      " 'graphite black' 'graphite' 'aluminum' 'arctic grey' 'platinum' 'blue'\n",
      " 'green' 'slate grey' 'silver/carbon fiber' 'sky' 'shadow grey'\n",
      " 'burgundy red' 'midnight' 'mecha gray' 'off black' 'mineral grey'\n",
      " 'mist blue' 'punk pink' 'shale black' 'star black' 'carbon fiber'\n",
      " 'gray, silver' 'shadow black' 'white' 'fog blue' 'rgb backlit'\n",
      " 'cloud grey' 'phantom grey' 'dark side of the moon' 'basalt grey'\n",
      " 'matte black' 'mystic blue' 'indie black' 'obsidian black' 'stormy grey'\n",
      " 'mystic black' 'phantom grey with speckles' 'ink black' 'galaxy black'\n",
      " 'evo i7-1260p' 'titan gray dull' 'aluminum titan gray' 'dark shadow grey'\n",
      " 'royal blue' 'jade black' 'quiet blue' 'mica silver' 'phantom blue'\n",
      " 'dark side of the moon with high endurance clear coat and silky smooth finish'\n",
      " 'black paint' 'anodized titan gray' 'lunar light' 'platinum grey'\n",
      " 'epic silver' 'abyssal black' 'space gray'\n",
      " 'black with illuminated razer logo' 'core black' 'silver blue'\n",
      " 'dynamic white' 'silver black' 'dark silver' 'obisidian black'\n",
      " 'abyss black' 'thunder black' 'titanium blue-black-dark blue-black'\n",
      " 'titanium blue' 'neptune blue' 'nocturne blue' 'storm grey' 'touchscreen'\n",
      " 'carbon black' 'silver/black' 'dark ash' 'cosmo gray' 'ice blue'\n",
      " 'pale rose gold' 'thunder balck' 'poseidon blue' 'tech black'\n",
      " 'nightfall black' 'dark ash silver' 'onyx grey' 'dark metallic moon'\n",
      " 'acronym' 'star gray' 'celestial blue' 'dark grey' 'sliver' 'modern gray'\n",
      " 'almond' 'ash gray' 'transparent silver' 'mineral silver' 'dale gray'\n",
      " 'metallic gray' 'cover: red ; inner/keyboard: black' 'abyss blue'\n",
      " 'snowflake white' 'mercury' 'silver, black' 'ice blue + iron grey'\n",
      " 'mineral gray' 'arctic gray' 'slate gray' 'business black'\n",
      " 'graphite grey' 'gold' 'platinum gray' 'grey/black' 'coral red'\n",
      " 'black and silver' 'onyx black' 'pebble green' 'red' 'era gray'\n",
      " 'soft mint' 'fiesta red' 'dark teal' 'black,silver,grey' 'beige mousse'\n",
      " 'dune' 'midnight black' 'graphite gray' 'machined aluminum' 'iron grey'\n",
      " 'resolute red' 'gaia green'\n",
      " 'machined aluminum display back and base in silver' 'horizon blue'\n",
      " 'grey, platinum silver' 'pine grey' 'classic black' 'glossy black'\n",
      " 'gray, grey, platinum silver' 'apollo' 'urban silver' 'silver matte'\n",
      " 'eclipse grey' 'black/white' 'charcoal gray' 'electro punk' 'lunar gold'\n",
      " 'ai blue' 'rose gold' 'safari gold' 'iron gray']\n"
     ]
    }
   ],
   "source": [
    "# first make colour column all lowercase\n",
    "df['colour'] = df['colour'].str.lower()\n",
    "# now correct spelling, (from analysis using print(), grey is spelt gary and gray sometimes)\n",
    "colours = 'grey'\n",
    "df['colour'] = df['colour'].astype(str)\n",
    "\n",
    "df['colour'] = df['colour'].replace('gray', colours)\n",
    "df['colour'] = df['colour'].replace('gary', colours)\n",
    "\n",
    "unique_colours = df['colour'].unique()\n",
    "print(unique_colours)\n",
    "# but, from printing this, i can see that it only partially worked. still more work to do."
   ]
  },
  {
   "cell_type": "code",
   "execution_count": null,
   "id": "c7170427",
   "metadata": {},
   "outputs": [],
   "source": []
  },
  {
   "cell_type": "code",
   "execution_count": 1657,
   "id": "9f217c15",
   "metadata": {},
   "outputs": [],
   "source": [
    "# save the file\n",
    "df.to_excel('cleaned_data.xlsx', index=False)"
   ]
  },
  {
   "cell_type": "code",
   "execution_count": 1658,
   "id": "2a66b685",
   "metadata": {},
   "outputs": [
    {
     "name": "stdout",
     "output_type": "stream",
     "text": [
      "5.378614187240601\n"
     ]
    }
   ],
   "source": [
    "# finish timing\n",
    "finish_time = time.time()\n",
    "print(finish_time - start_time)"
   ]
  },
  {
   "cell_type": "code",
   "execution_count": 1659,
   "id": "f50fff0b",
   "metadata": {},
   "outputs": [],
   "source": [
    "############ QUESTION 2 ################\n",
    "# --------------------------------------\n",
    "# --------------------------------------\n",
    "#---------------------------------------"
   ]
  },
  {
   "cell_type": "code",
   "execution_count": null,
   "id": "7e83dae8",
   "metadata": {},
   "outputs": [],
   "source": []
  },
  {
   "cell_type": "code",
   "execution_count": null,
   "id": "44f73521",
   "metadata": {},
   "outputs": [],
   "source": []
  },
  {
   "cell_type": "code",
   "execution_count": 1660,
   "id": "f09bc66c",
   "metadata": {},
   "outputs": [
    {
     "data": {
      "text/html": [
       "<div>\n",
       "<style scoped>\n",
       "    .dataframe tbody tr th:only-of-type {\n",
       "        vertical-align: middle;\n",
       "    }\n",
       "\n",
       "    .dataframe tbody tr th {\n",
       "        vertical-align: top;\n",
       "    }\n",
       "\n",
       "    .dataframe thead th {\n",
       "        text-align: right;\n",
       "    }\n",
       "</style>\n",
       "<table border=\"1\" class=\"dataframe\">\n",
       "  <thead>\n",
       "    <tr style=\"text-align: right;\">\n",
       "      <th></th>\n",
       "      <th>screen_size(inches)</th>\n",
       "      <th>harddisk(GB)</th>\n",
       "      <th>RAM(GB)</th>\n",
       "      <th>cpu_speed(GHz)</th>\n",
       "      <th>rating</th>\n",
       "      <th>price($)</th>\n",
       "    </tr>\n",
       "  </thead>\n",
       "  <tbody>\n",
       "    <tr>\n",
       "      <th>count</th>\n",
       "      <td>2289.000000</td>\n",
       "      <td>2289.000000</td>\n",
       "      <td>2242.000000</td>\n",
       "      <td>198.000000</td>\n",
       "      <td>817.000000</td>\n",
       "      <td>2289.000000</td>\n",
       "    </tr>\n",
       "    <tr>\n",
       "      <th>mean</th>\n",
       "      <td>15.079445</td>\n",
       "      <td>903.111839</td>\n",
       "      <td>22.774304</td>\n",
       "      <td>2.765556</td>\n",
       "      <td>4.090208</td>\n",
       "      <td>1433.557436</td>\n",
       "    </tr>\n",
       "    <tr>\n",
       "      <th>std</th>\n",
       "      <td>1.290826</td>\n",
       "      <td>1016.082328</td>\n",
       "      <td>16.892521</td>\n",
       "      <td>1.150157</td>\n",
       "      <td>0.822003</td>\n",
       "      <td>886.987374</td>\n",
       "    </tr>\n",
       "    <tr>\n",
       "      <th>min</th>\n",
       "      <td>10.100000</td>\n",
       "      <td>64.000000</td>\n",
       "      <td>1.000000</td>\n",
       "      <td>0.900000</td>\n",
       "      <td>1.000000</td>\n",
       "      <td>84.540000</td>\n",
       "    </tr>\n",
       "    <tr>\n",
       "      <th>25%</th>\n",
       "      <td>14.000000</td>\n",
       "      <td>256.000000</td>\n",
       "      <td>12.000000</td>\n",
       "      <td>1.825000</td>\n",
       "      <td>3.800000</td>\n",
       "      <td>799.990000</td>\n",
       "    </tr>\n",
       "    <tr>\n",
       "      <th>50%</th>\n",
       "      <td>15.600000</td>\n",
       "      <td>512.000000</td>\n",
       "      <td>16.000000</td>\n",
       "      <td>2.600000</td>\n",
       "      <td>4.200000</td>\n",
       "      <td>1239.770000</td>\n",
       "    </tr>\n",
       "    <tr>\n",
       "      <th>75%</th>\n",
       "      <td>15.600000</td>\n",
       "      <td>1000.000000</td>\n",
       "      <td>32.000000</td>\n",
       "      <td>3.467500</td>\n",
       "      <td>4.600000</td>\n",
       "      <td>1865.990000</td>\n",
       "    </tr>\n",
       "    <tr>\n",
       "      <th>max</th>\n",
       "      <td>18.000000</td>\n",
       "      <td>8000.000000</td>\n",
       "      <td>128.000000</td>\n",
       "      <td>5.600000</td>\n",
       "      <td>5.000000</td>\n",
       "      <td>11261.240000</td>\n",
       "    </tr>\n",
       "  </tbody>\n",
       "</table>\n",
       "</div>"
      ],
      "text/plain": [
       "       screen_size(inches)  harddisk(GB)      RAM(GB)  cpu_speed(GHz)  \\\n",
       "count          2289.000000   2289.000000  2242.000000      198.000000   \n",
       "mean             15.079445    903.111839    22.774304        2.765556   \n",
       "std               1.290826   1016.082328    16.892521        1.150157   \n",
       "min              10.100000     64.000000     1.000000        0.900000   \n",
       "25%              14.000000    256.000000    12.000000        1.825000   \n",
       "50%              15.600000    512.000000    16.000000        2.600000   \n",
       "75%              15.600000   1000.000000    32.000000        3.467500   \n",
       "max              18.000000   8000.000000   128.000000        5.600000   \n",
       "\n",
       "           rating      price($)  \n",
       "count  817.000000   2289.000000  \n",
       "mean     4.090208   1433.557436  \n",
       "std      0.822003    886.987374  \n",
       "min      1.000000     84.540000  \n",
       "25%      3.800000    799.990000  \n",
       "50%      4.200000   1239.770000  \n",
       "75%      4.600000   1865.990000  \n",
       "max      5.000000  11261.240000  "
      ]
     },
     "execution_count": 1660,
     "metadata": {},
     "output_type": "execute_result"
    }
   ],
   "source": [
    "df.describe()\n",
    "# the following numerical data suggests data is well cleaned, there are no outliers"
   ]
  },
  {
   "cell_type": "code",
   "execution_count": 1661,
   "id": "25a7c9e5",
   "metadata": {},
   "outputs": [],
   "source": [
    "# normalise the following columns\n",
    "columns_for_normalisation = ['price($)', 'RAM(GB)', 'harddisk(GB)', 'rating','cpu_speed(GHz)', 'screen_size(inches)']\n",
    "# use normal_dict to store data to work out z score\n",
    "normal_dict = {}"
   ]
  },
  {
   "cell_type": "code",
   "execution_count": 1662,
   "id": "ba764e81",
   "metadata": {},
   "outputs": [
    {
     "name": "stdout",
     "output_type": "stream",
     "text": [
      "{'price($)': {'mean': 945.1047731239042, 'std': 303.3578132982154}, 'RAM(GB)': {'mean': 19.078534031413614, 'std': 13.338028239775142}, 'harddisk(GB)': {'mean': 722.1186736474694, 'std': 623.0017711571683}, 'rating': {'mean': 4.266666666666665, 'std': 0.5433188244216333}, 'cpu_speed(GHz)': {'mean': 2.5581395348837215, 'std': 1.0332661084586063}, 'screen_size(inches)': {'mean': 14.806588132635293, 'std': 1.1161547996435541}}\n"
     ]
    }
   ],
   "source": [
    "# RECCOMENDATIONS FOR STUDENT\n",
    "# criteria for students\n",
    "max_budget = 1500  \n",
    "min_rating = 3   \n",
    "min_harddisk = 200\n",
    "min_ram = 8\n",
    "\n",
    "# remove data that doesn't meet criteria\n",
    "# df2 = filtered laptops, with minimum data required\n",
    "df2 = df[\n",
    "    (df['price($)'] <= max_budget) &\n",
    "    ((df['rating'] >= min_rating) | df['rating'].isna()) &  # use rating>=3 or unrated\n",
    "    (df['harddisk(GB)'] >= min_harddisk) &\n",
    "    (df['RAM(GB)'] >= min_ram)\n",
    "].copy()\n",
    "\n",
    "for i in columns_for_normalisation:\n",
    "    normal_dict[i] = {\n",
    "        'mean': df2[i].mean(),\n",
    "        'std': df2[i].std()\n",
    "    }\n",
    "print(normal_dict)\n"
   ]
  },
  {
   "cell_type": "code",
   "execution_count": 1663,
   "id": "ea6d1449",
   "metadata": {},
   "outputs": [
    {
     "name": "stdout",
     "output_type": "stream",
     "text": [
      "['windows 10' 'windows 11' 'mac os' 'chrome os' 'windows 7'\n",
      " 'windows 7 professional' 'windows 8' 'windows 8.1' 'windows'\n",
      " 'windows 7 pro + 10 pro']\n"
     ]
    }
   ],
   "source": [
    "# remove all rows when OS is unknown, or when OS is an older version of windows\n",
    "# i did this by removing all rows that have an epty OS column, or don't have the \n",
    "# following substrings: [\"windows 10\", \"windows 11\", \"mac os\", \"macos\", \"windows10\", \"windows11\"]\n",
    "\n",
    "df2['OS'] = df2['OS'].str.lower() #first make everything lower\n",
    "df2 = df2.dropna(subset=['OS']) #drop row when OS empty\n",
    "\n",
    "os_substrings = [\"windows 10\", \"windows 11\", \"mac os\", \"macos\", \"chrome os\", \"win 10\", \"win 11\"] # valid OS systems\n",
    "# df2 = df2[df2['OS'].str.lower().str.contains('|'.join(os_substrings))] # remove when != valid OS\n",
    "\n",
    "# remove unnnessesary information\n",
    "# so, only show if its windows10/11 or mac\n",
    "df2['OS'] = np.where(df2['OS'].str.contains('windows 10|win 10', case=False), 'windows 10', df2['OS'])\n",
    "df2['OS'] = np.where(df2['OS'].str.contains('windows 11|win 11', case=False), 'windows 11', df2['OS'])\n",
    "#now, make both 'mac os' and 'macos' equal to 'mac os'\n",
    "df2['OS'] = np.where(df2['OS'].str.contains('mac', case=False), 'mac os', df2['OS'])\n",
    "\n",
    "# now print all unique OS systems left\n",
    "unique_os = df2['OS'].unique()\n",
    "print(unique_os)\n",
    "\n",
    "\n",
    "# [5] Replace column values based on conditions in Pandas, used code inspired from:\n",
    "# https://thispointer.com/replace-column-values-based-on-conditions-in-pandas/"
   ]
  },
  {
   "cell_type": "code",
   "execution_count": 1664,
   "id": "2b0fa4d5",
   "metadata": {},
   "outputs": [
    {
     "data": {
      "image/png": "[encoded data removed]",
      "text/plain": [
       "<Figure size 1080x648 with 1 Axes>"
      ]
     },
     "metadata": {},
     "output_type": "display_data"
    }
   ],
   "source": [
    "# create seaborn chart\n",
    "os_counts = df2['OS'].value_counts().reset_index()\n",
    "os_counts.columns = ['OS', 'Count']\n",
    "\n",
    "plt.figure(figsize=(15, 9))\n",
    "sns.barplot(x='Count', y='OS', data=os_counts, palette=\"viridis\")\n",
    "plt.title('OS Frequency')\n",
    "plt.xlabel('Frequency')\n",
    "plt.ylabel('OS')\n",
    "plt.show()\n",
    "\n",
    "df2 = df2[df2['OS'].str.lower().str.contains('|'.join(os_substrings))] # remove when != valid OS"
   ]
  },
  {
   "cell_type": "code",
   "execution_count": 1665,
   "id": "f0ca3048",
   "metadata": {},
   "outputs": [
    {
     "name": "stdout",
     "output_type": "stream",
     "text": [
      "       brand             model  price($)  RAM(GB)  harddisk(GB)  rating  \\\n",
      "1999      HP            Laptop    298.70     32.0        2000.0     NaN   \n",
      "1444  Lenovo              T450    139.98     16.0         256.0     5.0   \n",
      "1441  Lenovo   Lenovo Thinkpad    138.00      8.0         320.0     3.9   \n",
      "2176    Dell     Dell Inspiron    356.99      8.0        2000.0     3.5   \n",
      "1453      HP  Elitebook 840 G3    159.99      8.0         256.0     4.0   \n",
      "\n",
      "      ranking_score  \n",
      "1999       2.308654  \n",
      "1444       1.927436  \n",
      "1441       1.833246  \n",
      "2176       1.795061  \n",
      "1453       1.754709  \n",
      "       brand             model  price($)\n",
      "1999      HP            Laptop    298.70\n",
      "1444  Lenovo              T450    139.98\n",
      "1441  Lenovo   Lenovo Thinkpad    138.00\n",
      "2176    Dell     Dell Inspiron    356.99\n",
      "1453      HP  Elitebook 840 G3    159.99\n"
     ]
    }
   ],
   "source": [
    "\n",
    "# calculate z score of RAM, price and harddisk\n",
    "#  formula for z-score:     z = (x - mean) / std\n",
    "df2['normalized_RAM'] = (df2['RAM(GB)'] - normal_dict['RAM(GB)']['mean']) / normal_dict['RAM(GB)']['std']\n",
    "df2['normalized_harddisk'] = (df2['harddisk(GB)'] - normal_dict['harddisk(GB)']['mean']) / normal_dict['harddisk(GB)']['std']\n",
    "df2['normalized_price'] = (df2['price($)'] - normal_dict['price($)']['mean']) / normal_dict['price($)']['std']\n",
    "\n",
    "# ranking calculated using weights \n",
    "# weight for price is negative because you want low price\n",
    "weights = {'normalized_RAM': 0.2, 'normalized_harddisk': 0.2, 'normalized_price': -0.8}\n",
    "df2['ranking_score'] = (\n",
    "    df2['normalized_RAM'] * weights['normalized_RAM'] +\n",
    "    df2['normalized_harddisk'] * weights['normalized_harddisk'] +\n",
    "    df2['normalized_price'] * weights['normalized_price']\n",
    ")\n",
    "\n",
    "# Recommending top 5 laptops based on ranking_score\n",
    "recommended_laptops = df2.nlargest(5, 'ranking_score')\n",
    "\n",
    "# Display the recommended laptops\n",
    "print(recommended_laptops[['brand', 'model', 'price($)', 'RAM(GB)', 'harddisk(GB)', 'rating', 'ranking_score']])\n",
    "print(recommended_laptops[['brand', 'model', 'price($)']])\n",
    "\n",
    "# [6] calculate z score:\n",
    "# https://www.simplypsychology.org/z-score.html#:~:text=The%20formula%20for%20calculating%20a,Figure%202."
   ]
  },
  {
   "cell_type": "code",
   "execution_count": 1666,
   "id": "ef5cb82f",
   "metadata": {},
   "outputs": [
    {
     "data": {
      "image/png": "[encoded data removed]",
      "text/plain": [
       "<Figure size 864x576 with 1 Axes>"
      ]
     },
     "metadata": {},
     "output_type": "display_data"
    }
   ],
   "source": [
    "# Reshape the DataFrame to have 'attribute' and 'value' columns\n",
    "new_df = recommended_laptops.melt(id_vars='model', value_vars=['normalized_price', 'normalized_RAM', 'normalized_harddisk'], var_name='attribute', value_name='value')\n",
    "\n",
    "# Create a grouped bar plot\n",
    "plt.figure(figsize=(12, 8))\n",
    "sns.barplot(x='model', y='value', hue='attribute', data=new_df)\n",
    "plt.title('Comparison of Normalized data for each model')\n",
    "plt.xlabel('Model of Laptop')\n",
    "plt.ylabel('normalized value')\n",
    "plt.show()\n"
   ]
  },
  {
   "cell_type": "code",
   "execution_count": 1667,
   "id": "dbc3d81e",
   "metadata": {},
   "outputs": [
    {
     "name": "stdout",
     "output_type": "stream",
     "text": [
      "{'price($)': {'mean': 1053.2517647058826, 'std': 326.9787132069016}, 'RAM(GB)': {'mean': 15.529411764705882, 'std': 7.194769341845014}, 'harddisk(GB)': {'mean': 628.2352941176471, 'std': 372.7102643830334}, 'rating': {'mean': 4.3875, 'std': 0.5743008171432707}, 'cpu_speed(GHz)': {'mean': 3.994117647058823, 'std': 0.7039802804724843}, 'screen_size(inches)': {'mean': 15.21176470588235, 'std': 0.91506991054043}}\n"
     ]
    }
   ],
   "source": [
    "# RECCOMENDATIONS FOR GAMER\n",
    "# this code will be pretty much same as for student, so less comments used\n",
    "\n",
    "# criteria for gamer\n",
    "max_budget = 1500  \n",
    "min_rating = 3   \n",
    "min_harddisk = 450\n",
    "min_ram = 8\n",
    "min_cpu_speed = 3\n",
    "min_screen_size = 14\n",
    "\n",
    "# remove data that doesn't meet criteria\n",
    "# df3 = filtered laptops, with minimum data required\n",
    "df3 = df[\n",
    "    (df['price($)'] <= max_budget) &\n",
    "    ((df['rating'] >= min_rating) | df['rating'].isna()) & \n",
    "    (df['harddisk(GB)'] >= min_harddisk) &\n",
    "    (df['RAM(GB)'] >= min_ram) &\n",
    "    (df['cpu_speed(GHz)'] >= min_cpu_speed) &\n",
    "    (df['screen_size(inches)'] >= min_screen_size)\n",
    "].copy()\n",
    "\n",
    "for i in columns_for_normalisation:\n",
    "    normal_dict[i] = {\n",
    "        'mean': df3[i].mean(),\n",
    "        'std': df3[i].std()\n",
    "    }\n",
    "print(normal_dict)\n"
   ]
  },
  {
   "cell_type": "code",
   "execution_count": 1668,
   "id": "d7d3faee",
   "metadata": {},
   "outputs": [],
   "source": [
    "df3['OS'] = df3['OS'].str.lower()\n",
    "df3 = df3.dropna(subset=['OS'])\n",
    "\n",
    "os_substrings = [\"windows 10\", \"windows 11\", \"mac os\", \"macos\", \"chrome os\", \"win 10\", \"win 11\"] \n",
    "df3 = df3[df3['OS'].str.lower().str.contains('|'.join(os_substrings))] \n",
    "\n",
    "df3['OS'] = np.where(df3['OS'].str.contains('windows 10|win 10', case=False), 'windows 10', df3['OS'])\n",
    "df3['OS'] = np.where(df3['OS'].str.contains('windows 11|win 11', case=False), 'windows 11', df3['OS'])\n",
    "\n",
    "df3['OS'] = np.where(df3['OS'].str.contains('mac', case=False), 'mac os', df3['OS'])\n",
    "\n",
    "unique_os = df3['OS'].unique()"
   ]
  },
  {
   "cell_type": "code",
   "execution_count": 1669,
   "id": "301bacc4",
   "metadata": {},
   "outputs": [
    {
     "name": "stdout",
     "output_type": "stream",
     "text": [
      "     brand            model  price($)  RAM(GB)  harddisk(GB)  cpu_speed(GHz)  \\\n",
      "2176  Dell    Dell Inspiron    356.99      8.0        2000.0             3.4   \n",
      "4174  Dell    Latitude 5440    997.74     32.0         512.0             5.0   \n",
      "540   Dell    Latitude 5530   1488.95     32.0         512.0             4.7   \n",
      "368     LG  16Z90Q-N.APB7U1   1299.99     16.0        1000.0             4.7   \n",
      "2855  Acer     AV14-51-58XZ    532.49     16.0         512.0             4.4   \n",
      "\n",
      "      screen_size(inches)  rating  ranking_score  \n",
      "2176                 15.6     3.5       1.524085  \n",
      "4174                 14.0     NaN       1.005692  \n",
      "540                  15.6     NaN       0.776867  \n",
      "368                  16.0     NaN       0.671857  \n",
      "2855                 14.0     4.8       0.287331  \n",
      "     brand            model  price($)\n",
      "2176  Dell    Dell Inspiron    356.99\n",
      "4174  Dell    Latitude 5440    997.74\n",
      "540   Dell    Latitude 5530   1488.95\n",
      "368     LG  16Z90Q-N.APB7U1   1299.99\n",
      "2855  Acer     AV14-51-58XZ    532.49\n"
     ]
    }
   ],
   "source": [
    "df3['normalized_RAM'] = (df3['RAM(GB)'] - normal_dict['RAM(GB)']['mean']) / normal_dict['RAM(GB)']['std']\n",
    "df3['normalized_harddisk'] = (df3['harddisk(GB)'] - normal_dict['harddisk(GB)']['mean']) / normal_dict['harddisk(GB)']['std']\n",
    "df3['normalized_price'] = (df3['price($)'] - normal_dict['price($)']['mean']) / normal_dict['price($)']['std']\n",
    "df3['normalized_cpu'] = (df3['cpu_speed(GHz)'] - normal_dict['cpu_speed(GHz)']['mean']) / normal_dict['cpu_speed(GHz)']['std']\n",
    "df3['normalized_screen'] = (df3['screen_size(inches)'] - normal_dict['screen_size(inches)']['mean']) / normal_dict['screen_size(inches)']['std']\n",
    "\n",
    "\n",
    "weights = {'normalized_RAM': 0.4, 'normalized_harddisk': 0.4, 'normalized_price': -0.3, 'normalized_cpu':0.3, 'normalized_screen':0.2}\n",
    "df3['ranking_score'] = (\n",
    "    df3['normalized_RAM'] * weights['normalized_RAM'] +\n",
    "    df3['normalized_harddisk'] * weights['normalized_harddisk'] +\n",
    "    df3['normalized_price'] * weights['normalized_price'] +\n",
    "    df3['normalized_cpu'] * weights['normalized_cpu'] +\n",
    "    df3['normalized_screen'] * weights['normalized_screen']\n",
    ")\n",
    "\n",
    "recommended_laptops = df3.nlargest(5, 'ranking_score')\n",
    "\n",
    "print(recommended_laptops[['brand', 'model', 'price($)', 'RAM(GB)', 'harddisk(GB)','cpu_speed(GHz)','screen_size(inches)', 'rating', 'ranking_score']])\n",
    "print(recommended_laptops[['brand', 'model', 'price($)']])"
   ]
  },
  {
   "cell_type": "code",
   "execution_count": 1670,
   "id": "fb70b8fa",
   "metadata": {},
   "outputs": [
    {
     "data": {
      "image/png": "[encoded data removed]",
      "text/plain": [
       "<Figure size 864x576 with 1 Axes>"
      ]
     },
     "metadata": {},
     "output_type": "display_data"
    }
   ],
   "source": [
    "# Reshape the DataFrame to have 'attribute' and 'value' columns\n",
    "new_df = recommended_laptops.melt(id_vars='model', value_vars=['normalized_price', 'normalized_RAM', 'normalized_harddisk', 'normalized_cpu', 'normalized_screen'], var_name='attribute', value_name='value')\n",
    "\n",
    "# Create a grouped bar plot\n",
    "plt.figure(figsize=(12, 8))\n",
    "sns.barplot(x='model', y='value', hue='attribute', data=new_df)\n",
    "plt.title('Comparison of Normalized data for each model')\n",
    "plt.xlabel('Model of Laptop')\n",
    "plt.ylabel('normalized value')\n",
    "plt.show()"
   ]
  },
  {
   "cell_type": "code",
   "execution_count": 1671,
   "id": "840c7ba4",
   "metadata": {},
   "outputs": [
    {
     "name": "stdout",
     "output_type": "stream",
     "text": [
      "5.994721174240112\n"
     ]
    }
   ],
   "source": [
    "# finish timing\n",
    "finish_time = time.time()\n",
    "print(finish_time - start_time)"
   ]
  },
  {
   "cell_type": "code",
   "execution_count": 1672,
   "id": "3eb7eab3",
   "metadata": {},
   "outputs": [
    {
     "data": {
      "text/html": [
       "<div>\n",
       "<style scoped>\n",
       "    .dataframe tbody tr th:only-of-type {\n",
       "        vertical-align: middle;\n",
       "    }\n",
       "\n",
       "    .dataframe tbody tr th {\n",
       "        vertical-align: top;\n",
       "    }\n",
       "\n",
       "    .dataframe thead th {\n",
       "        text-align: right;\n",
       "    }\n",
       "</style>\n",
       "<table border=\"1\" class=\"dataframe\">\n",
       "  <thead>\n",
       "    <tr style=\"text-align: right;\">\n",
       "      <th></th>\n",
       "      <th>screen_size(inches)</th>\n",
       "      <th>harddisk(GB)</th>\n",
       "      <th>RAM(GB)</th>\n",
       "      <th>cpu_speed(GHz)</th>\n",
       "      <th>rating</th>\n",
       "      <th>price($)</th>\n",
       "      <th>normalized_RAM</th>\n",
       "      <th>normalized_harddisk</th>\n",
       "      <th>normalized_price</th>\n",
       "      <th>normalized_cpu</th>\n",
       "      <th>normalized_screen</th>\n",
       "      <th>ranking_score</th>\n",
       "    </tr>\n",
       "  </thead>\n",
       "  <tbody>\n",
       "    <tr>\n",
       "      <th>count</th>\n",
       "      <td>17.000000</td>\n",
       "      <td>17.000000</td>\n",
       "      <td>17.000000</td>\n",
       "      <td>17.000000</td>\n",
       "      <td>8.000000</td>\n",
       "      <td>17.000000</td>\n",
       "      <td>1.700000e+01</td>\n",
       "      <td>1.700000e+01</td>\n",
       "      <td>1.700000e+01</td>\n",
       "      <td>1.700000e+01</td>\n",
       "      <td>1.700000e+01</td>\n",
       "      <td>1.700000e+01</td>\n",
       "    </tr>\n",
       "    <tr>\n",
       "      <th>mean</th>\n",
       "      <td>15.211765</td>\n",
       "      <td>628.235294</td>\n",
       "      <td>15.529412</td>\n",
       "      <td>3.994118</td>\n",
       "      <td>4.387500</td>\n",
       "      <td>1053.251765</td>\n",
       "      <td>-7.020528e-17</td>\n",
       "      <td>-5.224579e-17</td>\n",
       "      <td>-6.236841e-16</td>\n",
       "      <td>6.726645e-16</td>\n",
       "      <td>2.644943e-15</td>\n",
       "      <td>9.208320e-16</td>\n",
       "    </tr>\n",
       "    <tr>\n",
       "      <th>std</th>\n",
       "      <td>0.915070</td>\n",
       "      <td>372.710264</td>\n",
       "      <td>7.194769</td>\n",
       "      <td>0.703980</td>\n",
       "      <td>0.574301</td>\n",
       "      <td>326.978713</td>\n",
       "      <td>1.000000e+00</td>\n",
       "      <td>1.000000e+00</td>\n",
       "      <td>1.000000e+00</td>\n",
       "      <td>1.000000e+00</td>\n",
       "      <td>1.000000e+00</td>\n",
       "      <td>7.393993e-01</td>\n",
       "    </tr>\n",
       "    <tr>\n",
       "      <th>min</th>\n",
       "      <td>14.000000</td>\n",
       "      <td>512.000000</td>\n",
       "      <td>8.000000</td>\n",
       "      <td>3.000000</td>\n",
       "      <td>3.500000</td>\n",
       "      <td>356.990000</td>\n",
       "      <td>-1.046512e+00</td>\n",
       "      <td>-3.118650e-01</td>\n",
       "      <td>-2.129379e+00</td>\n",
       "      <td>-1.412138e+00</td>\n",
       "      <td>-1.324232e+00</td>\n",
       "      <td>-1.267281e+00</td>\n",
       "    </tr>\n",
       "    <tr>\n",
       "      <th>25%</th>\n",
       "      <td>14.000000</td>\n",
       "      <td>512.000000</td>\n",
       "      <td>8.000000</td>\n",
       "      <td>3.300000</td>\n",
       "      <td>4.125000</td>\n",
       "      <td>997.740000</td>\n",
       "      <td>-1.046512e+00</td>\n",
       "      <td>-3.118650e-01</td>\n",
       "      <td>-1.697718e-01</td>\n",
       "      <td>-9.859902e-01</td>\n",
       "      <td>-1.324232e+00</td>\n",
       "      <td>-5.627635e-01</td>\n",
       "    </tr>\n",
       "    <tr>\n",
       "      <th>50%</th>\n",
       "      <td>15.600000</td>\n",
       "      <td>512.000000</td>\n",
       "      <td>16.000000</td>\n",
       "      <td>4.300000</td>\n",
       "      <td>4.550000</td>\n",
       "      <td>1099.000000</td>\n",
       "      <td>6.540699e-02</td>\n",
       "      <td>-3.118650e-01</td>\n",
       "      <td>1.399120e-01</td>\n",
       "      <td>4.345041e-01</td>\n",
       "      <td>4.242685e-01</td>\n",
       "      <td>3.319761e-02</td>\n",
       "    </tr>\n",
       "    <tr>\n",
       "      <th>75%</th>\n",
       "      <td>15.600000</td>\n",
       "      <td>512.000000</td>\n",
       "      <td>16.000000</td>\n",
       "      <td>4.500000</td>\n",
       "      <td>4.800000</td>\n",
       "      <td>1299.950000</td>\n",
       "      <td>6.540699e-02</td>\n",
       "      <td>-3.118650e-01</td>\n",
       "      <td>7.544780e-01</td>\n",
       "      <td>7.186030e-01</td>\n",
       "      <td>4.242685e-01</td>\n",
       "      <td>2.873307e-01</td>\n",
       "    </tr>\n",
       "    <tr>\n",
       "      <th>max</th>\n",
       "      <td>17.000000</td>\n",
       "      <td>2000.000000</td>\n",
       "      <td>32.000000</td>\n",
       "      <td>5.000000</td>\n",
       "      <td>5.000000</td>\n",
       "      <td>1488.950000</td>\n",
       "      <td>2.289245e+00</td>\n",
       "      <td>3.680512e+00</td>\n",
       "      <td>1.332497e+00</td>\n",
       "      <td>1.428850e+00</td>\n",
       "      <td>1.954206e+00</td>\n",
       "      <td>1.524085e+00</td>\n",
       "    </tr>\n",
       "  </tbody>\n",
       "</table>\n",
       "</div>"
      ],
      "text/plain": [
       "       screen_size(inches)  harddisk(GB)    RAM(GB)  cpu_speed(GHz)    rating  \\\n",
       "count            17.000000     17.000000  17.000000       17.000000  8.000000   \n",
       "mean             15.211765    628.235294  15.529412        3.994118  4.387500   \n",
       "std               0.915070    372.710264   7.194769        0.703980  0.574301   \n",
       "min              14.000000    512.000000   8.000000        3.000000  3.500000   \n",
       "25%              14.000000    512.000000   8.000000        3.300000  4.125000   \n",
       "50%              15.600000    512.000000  16.000000        4.300000  4.550000   \n",
       "75%              15.600000    512.000000  16.000000        4.500000  4.800000   \n",
       "max              17.000000   2000.000000  32.000000        5.000000  5.000000   \n",
       "\n",
       "          price($)  normalized_RAM  normalized_harddisk  normalized_price  \\\n",
       "count    17.000000    1.700000e+01         1.700000e+01      1.700000e+01   \n",
       "mean   1053.251765   -7.020528e-17        -5.224579e-17     -6.236841e-16   \n",
       "std     326.978713    1.000000e+00         1.000000e+00      1.000000e+00   \n",
       "min     356.990000   -1.046512e+00        -3.118650e-01     -2.129379e+00   \n",
       "25%     997.740000   -1.046512e+00        -3.118650e-01     -1.697718e-01   \n",
       "50%    1099.000000    6.540699e-02        -3.118650e-01      1.399120e-01   \n",
       "75%    1299.950000    6.540699e-02        -3.118650e-01      7.544780e-01   \n",
       "max    1488.950000    2.289245e+00         3.680512e+00      1.332497e+00   \n",
       "\n",
       "       normalized_cpu  normalized_screen  ranking_score  \n",
       "count    1.700000e+01       1.700000e+01   1.700000e+01  \n",
       "mean     6.726645e-16       2.644943e-15   9.208320e-16  \n",
       "std      1.000000e+00       1.000000e+00   7.393993e-01  \n",
       "min     -1.412138e+00      -1.324232e+00  -1.267281e+00  \n",
       "25%     -9.859902e-01      -1.324232e+00  -5.627635e-01  \n",
       "50%      4.345041e-01       4.242685e-01   3.319761e-02  \n",
       "75%      7.186030e-01       4.242685e-01   2.873307e-01  \n",
       "max      1.428850e+00       1.954206e+00   1.524085e+00  "
      ]
     },
     "execution_count": 1672,
     "metadata": {},
     "output_type": "execute_result"
    }
   ],
   "source": [
    "df3.describe()"
   ]
  },
  {
   "cell_type": "code",
   "execution_count": null,
   "id": "2813bf08",
   "metadata": {},
   "outputs": [],
   "source": [
    "\n"
   ]
  },
  {
   "cell_type": "code",
   "execution_count": null,
   "id": "615ef697",
   "metadata": {},
   "outputs": [],
   "source": []
  }
 ],
 "metadata": {
  "kernelspec": {
   "display_name": "Python 3 (ipykernel)",
   "language": "python",
   "name": "python3"
  },
  "language_info": {
   "codemirror_mode": {
    "name": "ipython",
    "version": 3
   },
   "file_extension": ".py",
   "mimetype": "text/x-python",
   "name": "python",
   "nbconvert_exporter": "python",
   "pygments_lexer": "ipython3",
   "version": "3.9.12"
  }
 },
 "nbformat": 4,
 "nbformat_minor": 5
}
